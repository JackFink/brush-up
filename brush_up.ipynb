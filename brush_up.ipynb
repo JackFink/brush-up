{
  "nbformat": 4,
  "nbformat_minor": 0,
  "metadata": {
    "colab": {
      "provenance": [],
      "authorship_tag": "ABX9TyORA8slKl4v+BJVmnFqsabm",
      "include_colab_link": true
    },
    "kernelspec": {
      "name": "python3",
      "display_name": "Python 3"
    },
    "language_info": {
      "name": "python"
    }
  },
  "cells": [
    {
      "cell_type": "markdown",
      "metadata": {
        "id": "view-in-github",
        "colab_type": "text"
      },
      "source": [
        "<a href=\"https://colab.research.google.com/github/JackFink/brush-up/blob/main/brush_up.ipynb\" target=\"_parent\"><img src=\"https://colab.research.google.com/assets/colab-badge.svg\" alt=\"Open In Colab\"/></a>"
      ]
    },
    {
      "cell_type": "markdown",
      "source": [
        "google colab + git hub\n",
        "git hub"
      ],
      "metadata": {
        "id": "eh_zVK6zyAlh"
      }
    },
    {
      "cell_type": "markdown",
      "source": [
        "# Brush up?? Nah------ SSF!! is the best\n",
        "\n",
        "복습? 그것보다 좋은건 쓸만한것에 접목시켜 곡괭이질 하는것이지!"
      ],
      "metadata": {
        "id": "EK3HE3p4zwdI"
      }
    },
    {
      "cell_type": "markdown",
      "source": [
        "1 기본 파이선 수업정리\n",
        "\n",
        "2 필요 함수및 코드 확인\n",
        "\n",
        "3 코드 작성및 실행"
      ],
      "metadata": {
        "id": "OAfV9c3Gzf0i"
      }
    },
    {
      "cell_type": "code",
      "execution_count": null,
      "metadata": {
        "id": "y6CCOZd_zak3"
      },
      "outputs": [],
      "source": []
    }
  ]
}