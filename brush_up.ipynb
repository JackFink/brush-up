{
  "nbformat": 4,
  "nbformat_minor": 0,
  "metadata": {
    "colab": {
      "provenance": [],
      "toc_visible": true,
      "authorship_tag": "ABX9TyMJXG2N6y119cIIlYf3lFMD"
    },
    "kernelspec": {
      "name": "python3",
      "display_name": "Python 3"
    },
    "language_info": {
      "name": "python"
    }
  },
  "cells": [
    {
      "cell_type": "markdown",
      "source": [
        "# Brush up?? Nah------ Solo Self Found !! is the best\n",
        "\n",
        "복습? 그것보다 좋은건 쓸만한것에 접목시켜 곡괭이질 하는것이지!\n"
      ],
      "metadata": {
        "id": "EK3HE3p4zwdI"
      }
    },
    {
      "cell_type": "markdown",
      "source": [
        "1 기본 파이선 수업정리\n",
        "\n",
        "2 필요 함수및 코드 확인\n",
        "\n",
        "3 코드 작성및 실행"
      ],
      "metadata": {
        "id": "OAfV9c3Gzf0i"
      }
    },
    {
      "cell_type": "markdown",
      "source": [
        "#대분류\n",
        "\n",
        "\n"
      ],
      "metadata": {
        "id": "cp59Qss9j5GW"
      }
    },
    {
      "cell_type": "markdown",
      "source": [
        "## 중분류"
      ],
      "metadata": {
        "id": "b9AUm_L8lSmx"
      }
    },
    {
      "cell_type": "markdown",
      "source": [
        "###소분류"
      ],
      "metadata": {
        "id": "PBOc72p0k7ec"
      }
    },
    {
      "cell_type": "markdown",
      "source": [
        "- **소소**"
      ],
      "metadata": {
        "id": "0mPgtrwQld5_"
      }
    },
    {
      "cell_type": "markdown",
      "source": [
        "# 변수\n",
        "> **변수란, 데이터(값, value)를 저장할 수 있는 이름이 지정된 공간이다. 나중에 다시 사용할 수 있다.**\n",
        "\n",
        "**-왜 씀?**\n",
        "\n",
        "* 반복해서 사용하는 값을 한번만 저장하고 쓰기 위해\n",
        "* 값을 바꾸기 쉽게 하기 위해\n",
        "* 복잡한 계산을 단순화하기 위해\n",
        "\n",
        "\n",
        "**-뭐 됨?**\n",
        "\n",
        "* 하나의 값만 저장\n",
        "* 알파벳, 숫자, 밑줄(_)로 구성\n",
        "* 숫자로 시작하면 안 됨\n",
        "* 대소문자 구분함 (a와 A는 다름)\n",
        "\n",
        "**-뭐 또..**\n",
        "* 영문자 또는 \"_\" 로 시작\n",
        "* 숫자로는 시작못함\n",
        "* 특수문자 안됨\n",
        "* 공백은 있으면 안됨 \"_\" 로 채워넣음\n",
        "* Python 예약어는 사용 불가(if, while, for...)\n",
        "\n",
        "**-어쾀!!**\n",
        "  * 하나의 변수에 하나의 값\n",
        "  * 두 개의 변수에 같은 값\n",
        "  * 변수에 변수를 입력\n",
        "\n",
        "\n",
        "print() 로 확인 가능"
      ],
      "metadata": {
        "id": "R0kZBAqaN9AK"
      }
    },
    {
      "cell_type": "code",
      "source": [],
      "metadata": {
        "id": "J8w2RJFcjXwf"
      },
      "execution_count": null,
      "outputs": []
    },
    {
      "cell_type": "markdown",
      "source": [
        "# 새 섹션"
      ],
      "metadata": {
        "id": "nelBnERijY05"
      }
    },
    {
      "cell_type": "code",
      "source": [
        "# 변수 하나에 값 하나\n",
        "a = 1\n",
        "\n",
        "# 대소문자 구분\n",
        "A = 2\n",
        "\n",
        "# 두개의 변수에 같은 값\n",
        "b = c = 2\n",
        "\n",
        "# 변수를 변수로 대체\n",
        "e = a\n",
        "\n",
        "print(a,A,b,e)"
      ],
      "metadata": {
        "colab": {
          "base_uri": "https://localhost:8080/"
        },
        "id": "UTZnB4B6Lus_",
        "outputId": "dbe7437c-e966-477e-aba8-2c5e6ef3acd7"
      },
      "execution_count": 16,
      "outputs": [
        {
          "output_type": "stream",
          "name": "stdout",
          "text": [
            "1 2 2 1\n"
          ]
        }
      ]
    },
    {
      "cell_type": "markdown",
      "source": [
        "# 자료형\n",
        "> **데이터(값)**가 어떤 **종류(type)**인지 구분해, 다양한 종류의 데이터를 처리하기 위해 사용된다.\n",
        "\n",
        "**-왜 써?**\n",
        "\n",
        "* 값의 종류를 구분하기 위해\n",
        "\n",
        "* 값에 맞는 연산이나 처리를 하기 위해\n",
        "\n",
        "* 오류를 방지하고 정확한 결과를 얻기 위해\n",
        "\n",
        "\n",
        "\n",
        "**-뭐 댐?**\n",
        "\n",
        "* 정수, 실수, 문자열, 불린, 리스트, 딕셔너리 등\n",
        "\n",
        "* 타입은 type() 함수로 확인 가능\n",
        "\n",
        "* 변수에 어떤 자료형이 들어갔는지 파악 가능\n",
        "\n",
        "\n",
        "\n",
        "**-뭐 또...**\n",
        "\n",
        "* 정수: int\n",
        "\n",
        "* 실수: float\n",
        "\n",
        "* 문자열: str\n",
        "\n",
        "* 불린: bool\n",
        "\n",
        "* 리스트: list\n",
        "\n",
        "* 딕셔너리: dict\n",
        "\n",
        "* 집합: set\n",
        "\n",
        "* 튜플: tuple\n",
        "\n",
        "\n",
        "\n",
        "**-어캄!!**\n",
        "\n",
        "* type(변수)로 자료형 확인\n",
        "\n",
        "* 형 변환 가능: int(), float(), str() 등\n",
        "\n",
        "* 잘못된 형변환은 오류 발생\n",
        "\n"
      ],
      "metadata": {
        "id": "TAa2RKDSPCDn"
      }
    },
    {
      "cell_type": "code",
      "source": [
        "a = 10          # 정수형\n",
        "b = 3.14        # 실수형\n",
        "c = \"hello\"     # 문자열형\n",
        "d = True        # 불린형\n",
        "e = [1, 2, 3]   # 리스트형\n",
        "f = {\"name\": \"Tom\"}  # 딕셔너리형\n",
        "\n",
        "print(type(a), type(b), type(c))\n",
        "print(type(d), type(e), type(f))"
      ],
      "metadata": {
        "colab": {
          "base_uri": "https://localhost:8080/"
        },
        "id": "baMI105cPrRz",
        "outputId": "ddeb68dc-4b8a-4488-fc68-96d7350cc483"
      },
      "execution_count": 17,
      "outputs": [
        {
          "output_type": "stream",
          "name": "stdout",
          "text": [
            "<class 'int'> <class 'float'> <class 'str'>\n",
            "<class 'bool'> <class 'list'> <class 'dict'>\n"
          ]
        }
      ]
    },
    {
      "cell_type": "markdown",
      "source": [
        "# 숫자형\n",
        "\n",
        ">숫자형이란, 숫자를 저장하고 계산할 수 있는 자료형이다.\n",
        "(정수, 실수, 복소수로 나뉨)\n",
        "\n",
        "**왜 써?**\n",
        "\n",
        "* 계산을 위해\n",
        "* 숫자 데이터를 저장하기 위해\n",
        "\n",
        "**뭐 댐?**\n",
        "\n",
        "* 정수형: int (문자나 숫자를 정수형으로 변환) -integer\n",
        "* 실수형: float (문자나 숫자열을 실수형으로 변환)\n",
        "* 절대값: abs\n",
        "* 제곱: pow\n",
        "* 복소수형: complex (특수한 경우)\n",
        "\n",
        "**뭐 또...**\n",
        "\n",
        "* 사칙연산 가능: (+), (-), (*), (/)\n",
        "* 몫: (//), 나머지: (%), 제곱: (**)\n",
        "* 정수끼리 나눠도 결과는 실수(float)\n",
        "\n",
        "**어캄!!**\n",
        "\n",
        "* 숫자형 변수끼리 계산 가능\n",
        "* 문자형 숫자는 연산 불가 (\"3\" + 1)\n",
        "* 필요 시 형변환해서 연산"
      ],
      "metadata": {
        "id": "qOoULFEdQ2Ui"
      }
    },
    {
      "cell_type": "code",
      "source": [
        "x = 7       # int\n",
        "y = 2.5     # float\n",
        "z = x + y   # float\n",
        "\n",
        "print(x + y)    # 9.5\n",
        "print(x // 2)   # 3\n",
        "print(x % 2)    # 1\n",
        "print(2 ** 3)   # 8\n",
        "\n",
        "print(type(z))  # float\n",
        "\n",
        "print(pow(3,4))"
      ],
      "metadata": {
        "colab": {
          "base_uri": "https://localhost:8080/"
        },
        "id": "paNh_8NDQ9fF",
        "outputId": "5288034d-58d3-4c71-db62-921da3567647"
      },
      "execution_count": 22,
      "outputs": [
        {
          "output_type": "stream",
          "name": "stdout",
          "text": [
            "9.5\n",
            "3\n",
            "1\n",
            "8\n",
            "<class 'float'>\n",
            "81\n"
          ]
        }
      ]
    },
    {
      "cell_type": "markdown",
      "source": [
        "굵은 텍스트# 새 섹션"
      ],
      "metadata": {
        "id": "wvujWO2ciYAS"
      }
    }
  ]
}